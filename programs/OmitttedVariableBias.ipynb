{
 "cells": [
  {
   "cell_type": "code",
   "execution_count": 1,
   "metadata": {},
   "outputs": [],
   "source": [
    "import numpy as np\n",
    "import matplotlib.pyplot as plt\n",
    "\n",
    "from models import LinearRegression\n",
    "%matplotlib inline"
   ]
  },
  {
   "cell_type": "code",
   "execution_count": 2,
   "metadata": {},
   "outputs": [],
   "source": [
    "plt.style.use(\"grayscale\")\n",
    "plt.style.use(\"seaborn-whitegrid\")\n",
    "gray = (150/255,150/255,150/255)"
   ]
  },
  {
   "cell_type": "markdown",
   "metadata": {},
   "source": [
    "以下のシステムからデータをランダムに生成する\n",
    "$$\n",
    "\\beta_1 \\sim \\mathcal{N}(0, 1) \\\\\n",
    "\\beta_2 \\sim \\mathcal{N}(0, 1) \\\\\n",
    "\\boldsymbol{x}_n \\sim \\mathcal{N}(\\bf{0}, \\bf{\\Sigma}), \n",
    "\\quad \\bf{\\Sigma} = \n",
    "\\begin{bmatrix}\n",
    " 1 & \\rm{cov} \\\\\n",
    " \\rm{cov} & 1 \\\\\n",
    "\\end{bmatrix}\\\\\n",
    "y_n \\sim \\mathcal{N}(\\boldsymbol{\\beta}^T \\boldsymbol{x}_n, 0.1)\\\\\n",
    "$$"
   ]
  },
  {
   "cell_type": "code",
   "execution_count": 3,
   "metadata": {},
   "outputs": [],
   "source": [
    "N = 1000\n",
    "cov = 0.1\n",
    "\n",
    "beta = np.random.randn(2)\n",
    "X = np.random.multivariate_normal(mean=[0,0], cov=[[1,cov],[cov,1]], size=N)\n",
    "y = X@beta + np.random.normal(scale=np.sqrt(0.1), size=N)"
   ]
  },
  {
   "cell_type": "markdown",
   "metadata": {},
   "source": [
    "# 完全なデータによる回帰での推定バイアス（OLS）"
   ]
  },
  {
   "cell_type": "code",
   "execution_count": 4,
   "metadata": {},
   "outputs": [],
   "source": [
    "def plot_hist(ax, data, title, bins=None, label=None, alpha=None, color=None):\n",
    "    ax.grid(color=gray)\n",
    "    ax.hist(data, bins=bins, label=label, alpha=alpha, color=color)\n",
    "    ax.set_title(title)"
   ]
  },
  {
   "cell_type": "code",
   "execution_count": 5,
   "metadata": {},
   "outputs": [
    {
     "name": "stdout",
     "output_type": "stream",
     "text": [
      "サンプルサイズ：500\n"
     ]
    },
    {
     "data": {
      "image/png": "[encoded data removed]",
      "text/plain": [
       "<Figure size 720x360 with 2 Axes>"
      ]
     },
     "metadata": {},
     "output_type": "display_data"
    }
   ],
   "source": [
    "n_iter = 10000\n",
    "rate_sample = 0.5\n",
    "sample_size = int(N*rate_sample)\n",
    "print(\"サンプルサイズ：{}\".format(sample_size))\n",
    "\n",
    "beta_comp = np.empty((n_iter, 2))\n",
    "\n",
    "for n in range(n_iter):\n",
    "    sample = np.random.choice(range(N), size=sample_size)\n",
    "    model = LinearRegression(y=y[sample], Phi=X[sample])\n",
    "    model.fit_OLS()\n",
    "    beta_comp[n] = model.beta_OLS.flatten()\n",
    "    \n",
    "fig = plt.figure(figsize=(10, 5))\n",
    "ax1 = fig.add_subplot(121)\n",
    "plot_hist(ax1, beta_comp[:,0]-beta[0], \"estimation errores of beta 1\", alpha=0.8)\n",
    "ax2 = fig.add_subplot(122)\n",
    "plot_hist(ax2, beta_comp[:,1]-beta[1], \"estimation errores of beta 2\", alpha=0.8)\n",
    "\n",
    "plt.savefig(\"../draft/img/EstimationBias(unbiased_estimation).png\", dpi=300)\n",
    "plt.show()"
   ]
  },
  {
   "cell_type": "markdown",
   "metadata": {},
   "source": [
    "# 不完全なデータによる回帰での推定バイアス（OLS）"
   ]
  },
  {
   "cell_type": "code",
   "execution_count": 6,
   "metadata": {},
   "outputs": [
    {
     "name": "stdout",
     "output_type": "stream",
     "text": [
      "サンプルサイズ：500\n"
     ]
    },
    {
     "data": {
      "image/png": "[encoded data removed]",
      "text/plain": [
       "<Figure size 720x360 with 2 Axes>"
      ]
     },
     "metadata": {},
     "output_type": "display_data"
    }
   ],
   "source": [
    "n_iter = 1000\n",
    "rate_sample = 0.5\n",
    "sample_size = int(N*rate_sample)\n",
    "print(\"サンプルサイズ：{}\".format(sample_size))\n",
    "\n",
    "beta_incomp = np.empty((n_iter, 2))\n",
    "\n",
    "for n in range(n_iter):\n",
    "    sample = np.random.choice(range(N), size=sample_size)\n",
    "    model = LinearRegression(y=y[sample], Phi=X[sample,0].reshape((-1,1)))\n",
    "    model.fit_OLS()\n",
    "    beta_incomp[n,0] = model.beta_OLS.flatten()\n",
    "    \n",
    "    model = LinearRegression(y=y[sample], Phi=X[sample,1].reshape((-1,1)))\n",
    "    model.fit_OLS()\n",
    "    beta_incomp[n,1] = model.beta_OLS.flatten()\n",
    "    \n",
    "    \n",
    "fig = plt.figure(figsize=(10, 5))\n",
    "ax1 = fig.add_subplot(121)\n",
    "plot_hist(ax1, beta_comp[:,0]-beta[0], \"estimation errores of beta 1\", label=\"complete\", alpha=0.8)\n",
    "plot_hist(ax1, beta_incomp[:,0]-beta[0], \"estimation errores of beta 1\", label=\"incomplete\", alpha=0.8)\n",
    "ax1.legend()\n",
    "ax2 = fig.add_subplot(122)\n",
    "plot_hist(ax2, beta_comp[:,1]-beta[1], \"estimation errores of beta 2\", label=\"complete\", alpha=0.8)\n",
    "plot_hist(ax2, beta_incomp[:,1]-beta[1], \"estimation errores of beta 2\", label=\"incomplete\", alpha=0.8)\n",
    "ax2.legend()\n",
    "\n",
    "plt.savefig(\"../draft/img/OmittedVariableBias.png\", dpi=300)\n",
    "plt.show()"
   ]
  },
  {
   "cell_type": "code",
   "execution_count": null,
   "metadata": {},
   "outputs": [],
   "source": []
  }
 ],
 "metadata": {
  "@webio": {
   "lastCommId": "9c33943c83884502bb28f3ddc786e0a5",
   "lastKernelId": "c962f2e9-48db-49a2-981f-cab8ea3ef06f"
  },
  "kernelspec": {
   "display_name": "Python 3",
   "language": "python",
   "name": "python3"
  },
  "language_info": {
   "codemirror_mode": {
    "name": "ipython",
    "version": 3
   },
   "file_extension": ".py",
   "mimetype": "text/x-python",
   "name": "python",
   "nbconvert_exporter": "python",
   "pygments_lexer": "ipython3",
   "version": "3.6.6"
  }
 },
 "nbformat": 4,
 "nbformat_minor": 4
}
